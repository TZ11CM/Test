{
 "cells": [
  {
   "cell_type": "code",
   "execution_count": 1,
   "id": "65b5a6bc",
   "metadata": {},
   "outputs": [],
   "source": [
    "import pandas as pd\n",
    "import pyomo.environ as pyomo"
   ]
  },
  {
   "cell_type": "code",
   "execution_count": 2,
   "id": "712eaf8f",
   "metadata": {},
   "outputs": [
    {
     "name": "stdout",
     "output_type": "stream",
     "text": [
      "         price  octane  RVPmin  RVPmax  benzene\n",
      "Regular   2.75    87.0     0.0    15.0      1.1\n",
      "Premium   2.85    91.0     0.0    15.0      1.1\n"
     ]
    }
   ],
   "source": [
    "products = {\n",
    "    'Regular' : {'price': 2.75, 'octane': 87, 'RVPmin': 0.0, 'RVPmax': 15.0, 'benzene': 1.1},\n",
    "    'Premium' : {'price': 2.85, 'octane': 91, 'RVPmin': 0.0, 'RVPmax': 15.0, 'benzene': 1.1},\n",
    "}\n",
    "\n",
    "print(pd.DataFrame.from_dict(products).T)"
   ]
  },
  {
   "cell_type": "code",
   "execution_count": 3,
   "id": "370255a0",
   "metadata": {},
   "outputs": [
    {
     "name": "stdout",
     "output_type": "stream",
     "text": [
      "                RON   MON   RVP  benzene  cost    avail  octane\n",
      "Butane         93.0  92.0  54.0     0.00  0.85  30000.0   92.50\n",
      "LSR            78.0  76.0  11.2     0.73  2.05  35000.0   77.00\n",
      "Isomerate      83.0  81.1  13.5     0.00  2.20      0.0   82.05\n",
      "Reformate     100.0  88.2   3.2     1.85  2.80  60000.0   94.10\n",
      "Reformate LB   93.7  84.0   2.8     0.12  2.75      0.0   88.85\n",
      "FCC Naphtha    92.1  77.1   1.4     1.06  2.60  70000.0   84.60\n",
      "Alkylate       97.3  95.9   4.6     0.00  2.75  40000.0   96.60\n"
     ]
    }
   ],
   "source": [
    "streams = {\n",
    "    'Butane'       : {'RON': 93.0, 'MON': 92.0, 'RVP': 54.0, 'benzene': 0.00, 'cost': 0.85, 'avail': 30000},\n",
    "    'LSR'          : {'RON': 78.0, 'MON': 76.0, 'RVP': 11.2, 'benzene': 0.73, 'cost': 2.05, 'avail': 35000},\n",
    "    'Isomerate'    : {'RON': 83.0, 'MON': 81.1, 'RVP': 13.5, 'benzene': 0.00, 'cost': 2.20, 'avail': 0},\n",
    "    'Reformate'    : {'RON':100.0, 'MON': 88.2, 'RVP':  3.2, 'benzene': 1.85, 'cost': 2.80, 'avail': 60000},\n",
    "    'Reformate LB' : {'RON': 93.7, 'MON': 84.0, 'RVP':  2.8, 'benzene': 0.12, 'cost': 2.75, 'avail': 0},\n",
    "    'FCC Naphtha'  : {'RON': 92.1, 'MON': 77.1, 'RVP':  1.4, 'benzene': 1.06, 'cost': 2.60, 'avail': 70000},\n",
    "    'Alkylate'     : {'RON': 97.3, 'MON': 95.9, 'RVP':  4.6, 'benzene': 0.00, 'cost': 2.75, 'avail': 40000},\n",
    "}\n",
    "\n",
    "# calculate road octane as (R+M)/2\n",
    "for s in streams.keys():\n",
    "    streams[s]['octane'] = (streams[s]['RON'] + streams[s]['MON'])/2\n",
    "    \n",
    "# display feed information\n",
    "print(pd.DataFrame.from_dict(streams).T)"
   ]
  },
  {
   "cell_type": "code",
   "execution_count": 5,
   "id": "6c221285",
   "metadata": {},
   "outputs": [
    {
     "name": "stdout",
     "output_type": "stream",
     "text": [
      "Total Volume = 235000.0 gallons.\n",
      "Total Profit = 100425.0 dollars.\n",
      "Profit = 42.7 cents per gallon.\n"
     ]
    }
   ],
   "source": [
    "# create model\n",
    "m = pyomo.ConcreteModel()\n",
    "\n",
    "# create decision variables\n",
    "S = streams.keys()\n",
    "P = products.keys()\n",
    "m.x = pyomo.Var(S,P, domain=pyomo.NonNegativeReals)\n",
    "    \n",
    "# objective\n",
    "revenue = sum(sum(m.x[s,p]*products[p]['price'] for s in S) for p in P)\n",
    "cost = sum(sum(m.x[s,p]*streams[s]['cost'] for s in S) for p in P)\n",
    "m.profit = pyomo.Objective(expr = revenue - cost, sense=pyomo.maximize)\n",
    "\n",
    "# constraints\n",
    "m.cons = pyomo.ConstraintList()\n",
    "for s in S:\n",
    "    m.cons.add(sum(m.x[s,p] for p in P) <= streams[s]['avail'])\n",
    "for p in P:\n",
    "    m.cons.add(sum(m.x[s,p]*(streams[s]['octane'] -    products[p]['octane'])       for s in S) >= 0)\n",
    "    m.cons.add(sum(m.x[s,p]*(streams[s]['RVP']**1.25 - products[p]['RVPmin']**1.25) for s in S) >= 0)\n",
    "    m.cons.add(sum(m.x[s,p]*(streams[s]['RVP']**1.25 - products[p]['RVPmax']**1.25) for s in S) <= 0)\n",
    "    m.cons.add(sum(m.x[s,p]*(streams[s]['benzene'] -   products[p]['benzene'])      for s in S) <= 0)\n",
    "\n",
    "# solve\n",
    "solver = pyomo.SolverFactory('glpk')\n",
    "solver.solve(m)\n",
    "\n",
    "# display results\n",
    "vol = sum(m.x[s,p]() for s in S for p in P)\n",
    "print(\"Total Volume =\", round(vol, 1), \"gallons.\")\n",
    "print(\"Total Profit =\", round(m.profit(), 1), \"dollars.\")\n",
    "print(\"Profit =\", round(100*m.profit()/vol,1), \"cents per gallon.\")"
   ]
  },
  {
   "cell_type": "code",
   "execution_count": 6,
   "id": "42b49d72",
   "metadata": {},
   "outputs": [
    {
     "name": "stdout",
     "output_type": "stream",
     "text": [
      "              Regular  Premium    Total  Available  Unused (Slack)\n",
      "Butane        17924.9  12075.1  30000.0    30000.0             0.0\n",
      "LSR           35000.0      0.0  35000.0    35000.0             0.0\n",
      "Isomerate         0.0      0.0      0.0        0.0             0.0\n",
      "Reformate     43599.3  16400.7  60000.0    60000.0             0.0\n",
      "Reformate LB      0.0      0.0      0.0        0.0             0.0\n",
      "FCC Naphtha   24225.8  45774.2  70000.0    70000.0             0.0\n",
      "Alkylate          0.0  40000.0  40000.0    40000.0             0.0\n"
     ]
    }
   ],
   "source": [
    "stream_results = pd.DataFrame()\n",
    "for s in S:\n",
    "    for p in P:\n",
    "        stream_results.loc[s,p] = round(m.x[s,p](), 1)\n",
    "    stream_results.loc[s,'Total'] = round(sum(m.x[s,p]() for p in P), 1)\n",
    "    stream_results.loc[s,'Available'] = streams[s]['avail']\n",
    "    \n",
    "stream_results['Unused (Slack)'] = stream_results['Available'] - stream_results['Total']\n",
    "print(stream_results)"
   ]
  },
  {
   "cell_type": "code",
   "execution_count": 7,
   "id": "d3b52637",
   "metadata": {},
   "outputs": [
    {
     "name": "stdout",
     "output_type": "stream",
     "text": [
      "           Volume  octane   RVP  benzene\n",
      "Regular  120750.0    87.0  15.0      1.1\n",
      "Premium  114250.0    91.0  10.6      0.7\n"
     ]
    }
   ],
   "source": [
    "product_results = pd.DataFrame()\n",
    "for p in P:\n",
    "    product_results.loc[p,'Volume'] = round(sum(m.x[s,p]() for s in S), 1)\n",
    "    product_results.loc[p,'octane'] = round(sum(m.x[s,p]()*streams[s]['octane'] for s in S)\n",
    "                                            /product_results.loc[p,'Volume'], 1)\n",
    "    product_results.loc[p,'RVP'] = round((sum(m.x[s,p]()*streams[s]['RVP']**1.25 for s in S)\n",
    "                                            /product_results.loc[p,'Volume'])**0.8, 1)\n",
    "    product_results.loc[p,'benzene'] = round(sum(m.x[s,p]()*streams[s]['benzene'] for s in S)\n",
    "                                            /product_results.loc[p,'Volume'], 1)\n",
    "print(product_results)"
   ]
  },
  {
   "cell_type": "code",
   "execution_count": null,
   "id": "d70f88b8",
   "metadata": {},
   "outputs": [],
   "source": []
  }
 ],
 "metadata": {
  "kernelspec": {
   "display_name": "Python 3 (ipykernel)",
   "language": "python",
   "name": "python3"
  },
  "language_info": {
   "codemirror_mode": {
    "name": "ipython",
    "version": 3
   },
   "file_extension": ".py",
   "mimetype": "text/x-python",
   "name": "python",
   "nbconvert_exporter": "python",
   "pygments_lexer": "ipython3",
   "version": "3.9.13"
  }
 },
 "nbformat": 4,
 "nbformat_minor": 5
}
